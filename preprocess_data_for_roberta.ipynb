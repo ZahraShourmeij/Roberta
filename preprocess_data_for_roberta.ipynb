{
  "nbformat": 4,
  "nbformat_minor": 0,
  "metadata": {
    "colab": {
      "provenance": [],
      "gpuType": "T4",
      "authorship_tag": "ABX9TyMNim8zPKCwo49BcRgZPQ8r",
      "include_colab_link": true
    },
    "kernelspec": {
      "name": "python3",
      "display_name": "Python 3"
    },
    "language_info": {
      "name": "python"
    },
    "accelerator": "GPU"
  },
  "cells": [
    {
      "cell_type": "markdown",
      "metadata": {
        "id": "view-in-github",
        "colab_type": "text"
      },
      "source": [
        "<a href=\"https://colab.research.google.com/github/ZahraShourmeij/Roberta/blob/Transformers-articles/preprocess_data_for_roberta.ipynb\" target=\"_parent\"><img src=\"https://colab.research.google.com/assets/colab-badge.svg\" alt=\"Open In Colab\"/></a>"
      ]
    },
    {
      "cell_type": "code",
      "execution_count": 22,
      "metadata": {
        "colab": {
          "base_uri": "https://localhost:8080/"
        },
        "id": "3mGQ5pqtqd3T",
        "outputId": "0e9a9c67-593b-44fe-ed11-12e96b767495"
      },
      "outputs": [
        {
          "output_type": "stream",
          "name": "stdout",
          "text": [
            "Requirement already satisfied: tokenizers in /usr/local/lib/python3.10/dist-packages (0.15.2)\n",
            "Requirement already satisfied: pandas in /usr/local/lib/python3.10/dist-packages (1.5.3)\n",
            "Requirement already satisfied: huggingface_hub<1.0,>=0.16.4 in /usr/local/lib/python3.10/dist-packages (from tokenizers) (0.20.3)\n",
            "Requirement already satisfied: python-dateutil>=2.8.1 in /usr/local/lib/python3.10/dist-packages (from pandas) (2.8.2)\n",
            "Requirement already satisfied: pytz>=2020.1 in /usr/local/lib/python3.10/dist-packages (from pandas) (2023.4)\n",
            "Requirement already satisfied: numpy>=1.21.0 in /usr/local/lib/python3.10/dist-packages (from pandas) (1.25.2)\n",
            "Requirement already satisfied: filelock in /usr/local/lib/python3.10/dist-packages (from huggingface_hub<1.0,>=0.16.4->tokenizers) (3.13.1)\n",
            "Requirement already satisfied: fsspec>=2023.5.0 in /usr/local/lib/python3.10/dist-packages (from huggingface_hub<1.0,>=0.16.4->tokenizers) (2023.6.0)\n",
            "Requirement already satisfied: requests in /usr/local/lib/python3.10/dist-packages (from huggingface_hub<1.0,>=0.16.4->tokenizers) (2.31.0)\n",
            "Requirement already satisfied: tqdm>=4.42.1 in /usr/local/lib/python3.10/dist-packages (from huggingface_hub<1.0,>=0.16.4->tokenizers) (4.66.2)\n",
            "Requirement already satisfied: pyyaml>=5.1 in /usr/local/lib/python3.10/dist-packages (from huggingface_hub<1.0,>=0.16.4->tokenizers) (6.0.1)\n",
            "Requirement already satisfied: typing-extensions>=3.7.4.3 in /usr/local/lib/python3.10/dist-packages (from huggingface_hub<1.0,>=0.16.4->tokenizers) (4.10.0)\n",
            "Requirement already satisfied: packaging>=20.9 in /usr/local/lib/python3.10/dist-packages (from huggingface_hub<1.0,>=0.16.4->tokenizers) (23.2)\n",
            "Requirement already satisfied: six>=1.5 in /usr/local/lib/python3.10/dist-packages (from python-dateutil>=2.8.1->pandas) (1.16.0)\n",
            "Requirement already satisfied: charset-normalizer<4,>=2 in /usr/local/lib/python3.10/dist-packages (from requests->huggingface_hub<1.0,>=0.16.4->tokenizers) (3.3.2)\n",
            "Requirement already satisfied: idna<4,>=2.5 in /usr/local/lib/python3.10/dist-packages (from requests->huggingface_hub<1.0,>=0.16.4->tokenizers) (3.6)\n",
            "Requirement already satisfied: urllib3<3,>=1.21.1 in /usr/local/lib/python3.10/dist-packages (from requests->huggingface_hub<1.0,>=0.16.4->tokenizers) (2.0.7)\n",
            "Requirement already satisfied: certifi>=2017.4.17 in /usr/local/lib/python3.10/dist-packages (from requests->huggingface_hub<1.0,>=0.16.4->tokenizers) (2024.2.2)\n"
          ]
        }
      ],
      "source": [
        "pip install tokenizers pandas"
      ]
    },
    {
      "cell_type": "code",
      "source": [
        "!pip install transformers"
      ],
      "metadata": {
        "colab": {
          "base_uri": "https://localhost:8080/"
        },
        "id": "8dckqCv0zzAX",
        "outputId": "91c0661b-45bf-4ca4-b90b-8df365c39c66"
      },
      "execution_count": 23,
      "outputs": [
        {
          "output_type": "stream",
          "name": "stdout",
          "text": [
            "Requirement already satisfied: transformers in /usr/local/lib/python3.10/dist-packages (4.38.1)\n",
            "Requirement already satisfied: filelock in /usr/local/lib/python3.10/dist-packages (from transformers) (3.13.1)\n",
            "Requirement already satisfied: huggingface-hub<1.0,>=0.19.3 in /usr/local/lib/python3.10/dist-packages (from transformers) (0.20.3)\n",
            "Requirement already satisfied: numpy>=1.17 in /usr/local/lib/python3.10/dist-packages (from transformers) (1.25.2)\n",
            "Requirement already satisfied: packaging>=20.0 in /usr/local/lib/python3.10/dist-packages (from transformers) (23.2)\n",
            "Requirement already satisfied: pyyaml>=5.1 in /usr/local/lib/python3.10/dist-packages (from transformers) (6.0.1)\n",
            "Requirement already satisfied: regex!=2019.12.17 in /usr/local/lib/python3.10/dist-packages (from transformers) (2023.12.25)\n",
            "Requirement already satisfied: requests in /usr/local/lib/python3.10/dist-packages (from transformers) (2.31.0)\n",
            "Requirement already satisfied: tokenizers<0.19,>=0.14 in /usr/local/lib/python3.10/dist-packages (from transformers) (0.15.2)\n",
            "Requirement already satisfied: safetensors>=0.4.1 in /usr/local/lib/python3.10/dist-packages (from transformers) (0.4.2)\n",
            "Requirement already satisfied: tqdm>=4.27 in /usr/local/lib/python3.10/dist-packages (from transformers) (4.66.2)\n",
            "Requirement already satisfied: fsspec>=2023.5.0 in /usr/local/lib/python3.10/dist-packages (from huggingface-hub<1.0,>=0.19.3->transformers) (2023.6.0)\n",
            "Requirement already satisfied: typing-extensions>=3.7.4.3 in /usr/local/lib/python3.10/dist-packages (from huggingface-hub<1.0,>=0.19.3->transformers) (4.10.0)\n",
            "Requirement already satisfied: charset-normalizer<4,>=2 in /usr/local/lib/python3.10/dist-packages (from requests->transformers) (3.3.2)\n",
            "Requirement already satisfied: idna<4,>=2.5 in /usr/local/lib/python3.10/dist-packages (from requests->transformers) (3.6)\n",
            "Requirement already satisfied: urllib3<3,>=1.21.1 in /usr/local/lib/python3.10/dist-packages (from requests->transformers) (2.0.7)\n",
            "Requirement already satisfied: certifi>=2017.4.17 in /usr/local/lib/python3.10/dist-packages (from requests->transformers) (2024.2.2)\n"
          ]
        }
      ]
    },
    {
      "cell_type": "code",
      "source": [
        "import pandas as pd\n",
        "import json\n",
        "from transformers import GPT2Tokenizer\n",
        "\n",
        "# Load the GPT-2 tokenizer\n",
        "tokenizer = GPT2Tokenizer.from_pretrained(\"gpt2\")\n",
        "\n",
        "# Read your dataset\n",
        "df = pd.read_csv(\"EXIST2021_training.tsv\", sep=\"\\t\")\n",
        "# Extract labels from the \"task1\" column in the test dataset\n",
        "labels = df[\"task1\"].tolist()\n",
        "\n",
        "# Tokenize and preprocess each text sample\n",
        "preprocessed_texts = []\n",
        "for text in df[\"text\"]:\n",
        "    # Tokenize the text\n",
        "    tokens = tokenizer.encode(text)\n",
        "    # Extract token IDs from each token\n",
        "    token_ids = [token_id for token_id in tokens]\n",
        "    # Append preprocessed token IDs to the preprocessed texts list\n",
        "    preprocessed_texts.append(token_ids)\n",
        "\n",
        "    # Save the preprocessed texts\n",
        "with open(\"preprocessed_dataset.json\", \"w\") as file:\n",
        "    json.dump(preprocessed_texts, file)\n"
      ],
      "metadata": {
        "id": "sFN7hS920BQD"
      },
      "execution_count": 24,
      "outputs": []
    },
    {
      "cell_type": "code",
      "source": [
        "from transformers import RobertaTokenizer\n",
        "from transformers import RobertaForMaskedLM\n",
        "from transformers import AdamW\n",
        "\n",
        "# Now you can use RobertaForMaskedLM class\n",
        "\n",
        "import torch\n",
        "from torch.utils.data import DataLoader, TensorDataset\n",
        "import json\n",
        "\n",
        "# Load RoBERTa tokenizer\n",
        "roberta_tokenizer = RobertaTokenizer.from_pretrained('roberta-base')\n",
        "\n",
        "# Load preprocessed token IDs from the JSON file\n",
        "with open(\"preprocessed_dataset.json\", \"r\") as file:\n",
        "    preprocessed_texts = json.load(file)\n",
        "\n",
        "# Pad or truncate sequences to a fixed length\n",
        "max_length = 64  # adjust as needed\n",
        "input_ids = [tokens[:max_length] + [roberta_tokenizer.pad_token_id] * (max_length - len(tokens)) for tokens in preprocessed_texts]\n",
        "\n",
        "# Convert token IDs into tensors\n",
        "input_ids = torch.tensor(input_ids)\n",
        "\n",
        "# Create a TensorDataset\n",
        "dataset = TensorDataset(input_ids)\n",
        "\n",
        "# Define batch size and create DataLoader\n",
        "batch_size = 32\n",
        "dataloader = DataLoader(dataset, batch_size=batch_size, shuffle=True)\n",
        "\n",
        "# Load pre-trained RoBERTa model\n",
        "roberta_model = RobertaForMaskedLM.from_pretrained('roberta-base')\n",
        "\n",
        "# Define optimizer\n",
        "optimizer = AdamW(roberta_model.parameters(), lr=5e-5)\n",
        "\n",
        "# Define training loop\n",
        "num_epochs = 3\n",
        "device = torch.device('cuda') if torch.cuda.is_available() else torch.device('cpu')\n",
        "roberta_model.to(device)\n",
        "\n",
        "for epoch in range(num_epochs):\n",
        "    roberta_model.train()\n",
        "    for batch in dataloader:\n",
        "        # Move batch to device\n",
        "        batch = tuple(t.to(device) for t in batch)\n",
        "        inputs = {\"input_ids\": batch[0], \"labels\": batch[0]}  # Masked language modeling, predicting the same as input\n",
        "        optimizer.zero_grad()\n",
        "        outputs = roberta_model(**inputs)\n",
        "        loss = outputs.loss\n",
        "        loss.backward()\n",
        "        optimizer.step()\n",
        "\n",
        "# Save the trained model\n",
        "roberta_model.save_pretrained(\"roberta-trained-model\")\n"
      ],
      "metadata": {
        "id": "GSwLeb5g1Mhi",
        "colab": {
          "base_uri": "https://localhost:8080/"
        },
        "outputId": "a97b5fb9-5c0d-4842-c471-291c128ccf47"
      },
      "execution_count": 25,
      "outputs": [
        {
          "output_type": "stream",
          "name": "stderr",
          "text": [
            "/usr/local/lib/python3.10/dist-packages/transformers/optimization.py:429: FutureWarning: This implementation of AdamW is deprecated and will be removed in a future version. Use the PyTorch implementation torch.optim.AdamW instead, or set `no_deprecation_warning=True` to disable this warning\n",
            "  warnings.warn(\n"
          ]
        }
      ]
    },
    {
      "cell_type": "code",
      "source": [
        "# Load the test dataset\n",
        "test_df = pd.read_csv(\"EXIST2021_test_labeled.tsv\", sep=\"\\t\")\n",
        "\n",
        "# Extract labels from the \"task1\" column in the test dataset\n",
        "labels = test_df[\"task1\"].tolist()\n",
        "\n",
        "# Tokenize and preprocess each text sample in the test dataset\n",
        "preprocessed_test_texts = []\n",
        "for text in test_df[\"text\"]:\n",
        "    tokens = roberta_tokenizer.encode(text, max_length=max_length, truncation=True)\n",
        "    preprocessed_test_texts.append(tokens)\n",
        "\n",
        "from torch.nn.utils.rnn import pad_sequence\n",
        "\n",
        "# Define the maximum sequence length\n",
        "max_length = 64  # adjust as needed\n",
        "\n",
        "# Pad or truncate sequences to the maximum length\n",
        "padded_input_ids_test = pad_sequence([torch.tensor(tokens[:max_length] + [roberta_tokenizer.pad_token_id] * (max_length - len(tokens))) for tokens in preprocessed_test_texts], batch_first=True)\n",
        "\n",
        "# Create a TensorDataset\n",
        "test_dataset = TensorDataset(padded_input_ids_test)\n",
        "\n",
        "# Define batch size and create DataLoader for the test dataset\n",
        "test_dataloader = DataLoader(test_dataset, batch_size=batch_size)\n",
        "\n",
        "# Continue with your inference and evaluation code...\n",
        "\n",
        "# Set model to evaluation mode\n",
        "roberta_model.eval()\n",
        "\n",
        "# Lists to store predictions and labels\n",
        "predictions = []\n",
        "labels = []\n",
        "\n",
        "# Iterate over batches in the test dataset\n",
        "for batch in test_dataloader:\n",
        "    batch = tuple(t.to(device) for t in batch)\n",
        "    inputs = {\"input_ids\": batch[0]}\n",
        "    with torch.no_grad():\n",
        "        outputs = roberta_model(**inputs)\n",
        "    logits = outputs.logits\n",
        "    predicted_labels = torch.argmax(logits, dim=-1)\n",
        "    predictions.extend(predicted_labels.cpu().numpy())\n",
        "    # Add actual labels to the list\n",
        "    labels.extend(batch[0].cpu().numpy())\n",
        "\n",
        "# Convert token IDs back to text for evaluation (if needed)\n",
        "# Perform any additional processing or evaluation steps here...\n",
        "\n",
        "import numpy as np\n",
        "\n",
        "# Example evaluation: calculate accuracy\n",
        "correct_predictions = sum(1 for pred, label in zip(predictions, labels) if np.array_equal(pred, label))\n",
        "accuracy = correct_predictions / len(labels)\n",
        "print(\"Accuracy:\", accuracy)\n",
        "\n"
      ],
      "metadata": {
        "colab": {
          "base_uri": "https://localhost:8080/"
        },
        "id": "I3Au_JxRQdaI",
        "outputId": "69c2d0aa-3ba1-40ab-c42f-987ff290b23d"
      },
      "execution_count": 26,
      "outputs": [
        {
          "output_type": "stream",
          "name": "stdout",
          "text": [
            "Accuracy: 0.0\n"
          ]
        }
      ]
    }
  ]
}